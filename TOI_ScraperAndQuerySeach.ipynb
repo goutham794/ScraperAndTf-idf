{
 "cells": [
  {
   "cell_type": "markdown",
   "metadata": {},
   "source": [
    "# Using BeautifulSoup and Newspaper library to scrape news off TOI site and search a query, returning results ranked by TF-IDF"
   ]
  },
  {
   "cell_type": "code",
   "execution_count": 86,
   "metadata": {
    "collapsed": true
   },
   "outputs": [],
   "source": [
    "import bs4 as bs \n",
    "import urllib.request\n",
    "from newspaper import Article\n",
    "import pickle\n",
    "import re\n",
    "import string\n",
    "import math\n",
    "import numpy as np\n"
   ]
  },
  {
   "cell_type": "markdown",
   "metadata": {},
   "source": [
    "## Creating Beautiful soup object."
   ]
  },
  {
   "cell_type": "code",
   "execution_count": 87,
   "metadata": {
    "collapsed": true
   },
   "outputs": [],
   "source": [
    "url = \"https://timesofindia.indiatimes.com/2018/2/26/archivelist/year-2018,month-2,starttime-43157.cms\"\n",
    "source = urllib.request.urlopen(url).read()\n",
    "soup = bs.BeautifulSoup(source, 'lxml')\n",
    "urllist = []"
   ]
  },
  {
   "cell_type": "markdown",
   "metadata": {},
   "source": [
    "## News article links are found in Table2, storing all the links in a list."
   ]
  },
  {
   "cell_type": "code",
   "execution_count": 88,
   "metadata": {},
   "outputs": [],
   "source": [
    "links = soup.findAll('table')[2].findAll('a')"
   ]
  },
  {
   "cell_type": "code",
   "execution_count": 89,
   "metadata": {},
   "outputs": [],
   "source": [
    "for link in links:\n",
    "    urllist.append(link.get(\"href\"))"
   ]
  },
  {
   "cell_type": "markdown",
   "metadata": {},
   "source": [
    "## Article titles and body are stored in lists after scraping"
   ]
  },
  {
   "cell_type": "code",
   "execution_count": 90,
   "metadata": {},
   "outputs": [],
   "source": [
    "article_titles = []\n",
    "article_body = []\n",
    "try:\n",
    "\n",
    "\tfor i in range(0, 50):\n",
    "\t\tnewurl = 'https://timesofindia.indiatimes.com'+urllist[i]\n",
    "\t\tarticle = Article(newurl)\n",
    "\t\tarticle.download()\n",
    "\t\tarticle.parse()\n",
    "\t\tarticle_titles.append(article.title)\n",
    "\t\tarticle_body.append(article.text)\t\n",
    "\n",
    "except Exception as e:\n",
    "\tpass"
   ]
  },
  {
   "cell_type": "markdown",
   "metadata": {},
   "source": [
    "## Text processing, converting to lower case and removing stopwords"
   ]
  },
  {
   "cell_type": "code",
   "execution_count": 91,
   "metadata": {
    "collapsed": true
   },
   "outputs": [],
   "source": [
    "stopwords = set([\n",
    "    'a', 'an', 'and', 'are', 'as', 'at', 'be', 'but', 'by',\n",
    "    'for', 'if', 'in', 'into', 'is', 'it',\n",
    "    'no', 'not', 'of', 'on', 'or', 's', 'such',\n",
    "    't', 'that', 'the', 'their', 'then', 'there', 'these',\n",
    "    'they', 'this', 'to', 'was', 'will', 'with'\n",
    "])\n",
    "\n",
    "\n",
    "processed_corpus = [[word for word in text.lower().split() if word.isalnum() and word not in stopwords]for text in article_body]"
   ]
  },
  {
   "cell_type": "markdown",
   "metadata": {},
   "source": [
    "## Building a dictionary of all words in corpus"
   ]
  },
  {
   "cell_type": "code",
   "execution_count": 92,
   "metadata": {
    "collapsed": true
   },
   "outputs": [],
   "source": [
    "def build_lexicon(docs):\n",
    "    lexicon = set()\n",
    "    for doc in docs:\n",
    "        lexicon.update(doc)\n",
    "    return(lexicon)\n",
    "\n",
    "\n",
    "dictionary = build_lexicon(processed_corpus)"
   ]
  },
  {
   "cell_type": "markdown",
   "metadata": {},
   "source": [
    "## Functions for calculating TF weight and IDF weight"
   ]
  },
  {
   "cell_type": "code",
   "execution_count": 93,
   "metadata": {
    "collapsed": true
   },
   "outputs": [],
   "source": [
    "def tf(article, word):\n",
    "    return article.count(word)\n",
    "\n",
    "def numDocsContaining(word):\n",
    "    doccount = 0\n",
    "    for doc in processed_corpus:\n",
    "        if doc.count(word) > 0:\n",
    "            doccount +=1\n",
    "    return doccount\n",
    "\n",
    "def idf(word):\n",
    "    n_samples = len(processed_corpus)\n",
    "    df = numDocsContaining(word)\n",
    "    return math.log(n_samples / 1+df)"
   ]
  },
  {
   "cell_type": "markdown",
   "metadata": {},
   "source": [
    "## Creation of document matrix, each element is a td-idf weight vector of the article"
   ]
  },
  {
   "cell_type": "code",
   "execution_count": 94,
   "metadata": {},
   "outputs": [],
   "source": [
    "doc_term_matrix = []\n",
    "for doc in processed_corpus:\n",
    "    tfidf_vector = np.array([math.log(1+tf(doc,word))*idf(word) for word in dictionary])\n",
    "    doc_term_matrix.append(tfidf_vector)"
   ]
  },
  {
   "cell_type": "markdown",
   "metadata": {},
   "source": [
    "## Accepting query from user"
   ]
  },
  {
   "cell_type": "code",
   "execution_count": 95,
   "metadata": {},
   "outputs": [
    {
     "name": "stdout",
     "output_type": "stream",
     "text": [
      "enter query :- sridevi death actress\n"
     ]
    }
   ],
   "source": [
    "query = input(\"enter query :- \")\n",
    "processed_query = [word for word in query.lower().split() if word.isalnum() and word not in stopwords]\n",
    "\n",
    "query_tdidf = np.array([math.log(1+tf(processed_query,word))*idf(word) for word in dictionary])"
   ]
  },
  {
   "cell_type": "markdown",
   "metadata": {},
   "source": [
    "## Calculation of cosine scores and printing articles that have the highest scores"
   ]
  },
  {
   "cell_type": "code",
   "execution_count": 96,
   "metadata": {},
   "outputs": [
    {
     "name": "stdout",
     "output_type": "stream",
     "text": [
      "sridevi an: Sridevi: An inspiration for many young heroines\n",
      "As actresses took to their social media pages to express both shock and sadness over the untimely death of Sridevi , one common thread ran through all their posts. Almost all of them seem to have taken her as their inspiration to become an actress . From posts saying how dancing to Mere Haathon Mein Nau Nau Chudiyan Hai in school events to imitating scenes from Chaalbaaz and Mr India, she provided that inspiration for all of them to chart out their career in showbiz. All of them spoke about being girls who grew up in the 80s and 90s, looking at her larger than life persona on screen. Donning a chiffon sari and dancing atop the ice-capped mountains in Europe is something that any young showbiz aspirant has on her bucketlist. With many firsts in terms of trend and style to her credit, Sridevi has an irreplacable place in Indian cinema.\n",
      "\n",
      "\n",
      "Sridevi: Sridevi was a gentle and shy person off screen, says Kavita Krishnamurthy\n",
      "The recording of the songfor the 1987 filmwas a fantastic experience. Not only the beginning of the Laxmikant–Pyarelal song was elaborate and interesting, the way it was choreographed and picturised on Sridevi makes it one of the most memorable songs in Indian cinema. The manner in which she emoted the lyrics was astounding, and her expressions phenomenal. Onscreen she was a vivacious actor, well-known for her naughty and quirky mannerisms. But off the camera, Sridevi was a very gentle and shy person, not to forget the grace and beautiful smile. Following the success of, we had all travelled together to Siliguri for a concert. From Anil Kapoor to Amrish Puri, everyone was part of the troupe. I remember, the fan craze for Sridevi there was unbelievable. I have sang for her in a number of films includingand. The title track ofis another favourite. Her demise is a big loss for the industry. My condolences to Boney Kapoor and their daughters – Janhvi and Khushi.\n",
      "\n",
      "\n",
      "Sridevi: Sridevi was a gentle and shy person off screen, says Kavita Krishnamurthy\n",
      "The recording of the songfor the 1987 filmwas a fantastic experience. Not only the beginning of the Laxmikant–Pyarelal song was elaborate and interesting, the way it was choreographed and picturised on Sridevi makes it one of the most memorable songs in Indian cinema. The manner in which she emoted the lyrics was astounding, and her expressions phenomenal. Onscreen she was a vivacious actor, well-known for her naughty and quirky mannerisms. But off the camera, Sridevi was a very gentle and shy person, not to forget the grace and beautiful smile. Following the success of, we had all travelled together to Siliguri for a concert. From Anil Kapoor to Amrish Puri, everyone was part of the troupe. I remember, the fan craze for Sridevi there was unbelievable. I have sang for her in a number of films includingand. The title track ofis another favourite. Her demise is a big loss for the industry. My condolences to Boney Kapoor and their daughters – Janhvi and Khushi.\n",
      "\n",
      "\n",
      "sumalatha ambaressh: Sridevi was the only female superstar of Indian cinema, says Sumalatha Ambareesh\n",
      "The entire film fraternity is at shock. We never thought we would wake up to a news like this in our wildest imagination. Sridevi was Indian cinema’s only female superstar. She was a combination of Amitabh Bachchan Rajinikanth and Kamal Haasan . An excellent actor, a skilled dancer and style icon, Sridevi was a powerhouse of talent. Although my first film with her wasin Telugu, it was only in the Hindi moviethat I got to share more time and screen presence with her. During the making of the film, she even praised my dialogues in Hindi. She may, sometimes, had come across as slightly arrogant, but in reality she was quite a shy and naive person, who lacked confidence off screen and thus kept to herself at most times. She was an all-rounder; a class apart. It is a big loss for the entire film industry.\n",
      "\n",
      "\n",
      "sumalatha ambaressh: Sridevi was the only female superstar of Indian cinema, says Sumalatha Ambareesh\n",
      "The entire film fraternity is at shock. We never thought we would wake up to a news like this in our wildest imagination. Sridevi was Indian cinema’s only female superstar. She was a combination of Amitabh Bachchan Rajinikanth and Kamal Haasan . An excellent actor, a skilled dancer and style icon, Sridevi was a powerhouse of talent. Although my first film with her wasin Telugu, it was only in the Hindi moviethat I got to share more time and screen presence with her. During the making of the film, she even praised my dialogues in Hindi. She may, sometimes, had come across as slightly arrogant, but in reality she was quite a shy and naive person, who lacked confidence off screen and thus kept to herself at most times. She was an all-rounder; a class apart. It is a big loss for the entire film industry.\n",
      "\n",
      "\n"
     ]
    }
   ],
   "source": [
    "cosine_scores = np.array([np.dot(doc_tfidf,query_tdidf)/(np.linalg.norm(doc_tfidf)*np.linalg.norm(query_tdidf)) for doc_tfidf in doc_term_matrix])\n",
    "ranked_indices = np.argsort(-1 * cosine_scores)\n",
    "rank = list(ranked_indices)[0:5]\n",
    "\n",
    "for n in rank:\n",
    "    print (article_titles[n])\n",
    "    print (article_body[n])\n",
    "    print(\"\\n\")"
   ]
  }
 ],
 "metadata": {
  "kernelspec": {
   "display_name": "Python 3",
   "language": "python",
   "name": "python3"
  },
  "language_info": {
   "codemirror_mode": {
    "name": "ipython",
    "version": 3
   },
   "file_extension": ".py",
   "mimetype": "text/x-python",
   "name": "python",
   "nbconvert_exporter": "python",
   "pygments_lexer": "ipython3",
   "version": "3.6.1"
  }
 },
 "nbformat": 4,
 "nbformat_minor": 2
}
